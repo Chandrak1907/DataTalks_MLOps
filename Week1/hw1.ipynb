{
 "cells": [
  {
   "cell_type": "code",
   "execution_count": 1,
   "id": "3caa1305",
   "metadata": {},
   "outputs": [],
   "source": [
    "import pandas as pd\n",
    "import datetime as dt"
   ]
  },
  {
   "cell_type": "code",
   "execution_count": 2,
   "id": "eb8e0518",
   "metadata": {},
   "outputs": [],
   "source": [
    "jan = pd.read_parquet('./fhv_tripdata_2021-01.parquet')"
   ]
  },
  {
   "cell_type": "code",
   "execution_count": 3,
   "id": "1036fc4a",
   "metadata": {},
   "outputs": [
    {
     "data": {
      "text/plain": [
       "(1154112, 7)"
      ]
     },
     "execution_count": 3,
     "metadata": {},
     "output_type": "execute_result"
    }
   ],
   "source": [
    "# number of records in jan data\n",
    "jan.shape"
   ]
  },
  {
   "cell_type": "code",
   "execution_count": 4,
   "id": "7f2ad20b",
   "metadata": {},
   "outputs": [
    {
     "data": {
      "text/plain": [
       "19.1672240937939"
      ]
     },
     "execution_count": 4,
     "metadata": {},
     "output_type": "execute_result"
    }
   ],
   "source": [
    "\n",
    "jan.loc[:,'duration'] = jan.dropOff_datetime - jan.pickup_datetime\n",
    "jan['duration']= jan.duration.dt.total_seconds()/60\n",
    "# average duration\n",
    "jan.duration.mean()"
   ]
  },
  {
   "cell_type": "code",
   "execution_count": 5,
   "id": "6f12e0f0",
   "metadata": {},
   "outputs": [
    {
     "data": {
      "text/plain": [
       "(1109826, 8)"
      ]
     },
     "execution_count": 5,
     "metadata": {},
     "output_type": "execute_result"
    }
   ],
   "source": [
    "jan = jan[(jan.duration>=1) & (jan.duration<=60) ]\n",
    "#Number of records after dropping\n",
    "jan.shape"
   ]
  },
  {
   "cell_type": "code",
   "execution_count": 6,
   "id": "66eedb41",
   "metadata": {},
   "outputs": [
    {
     "data": {
      "text/plain": [
       "0.8352732770722617"
      ]
     },
     "execution_count": 6,
     "metadata": {},
     "output_type": "execute_result"
    }
   ],
   "source": [
    "# fraction of missing data\n",
    "jan.PUlocationID.isna().sum()/jan.shape[0]"
   ]
  },
  {
   "cell_type": "code",
   "execution_count": 7,
   "id": "546f5b0f",
   "metadata": {},
   "outputs": [
    {
     "name": "stderr",
     "output_type": "stream",
     "text": [
      "/Users/chandra/miniconda3/envs/DL/lib/python3.7/site-packages/pandas/core/frame.py:5182: SettingWithCopyWarning: \n",
      "A value is trying to be set on a copy of a slice from a DataFrame\n",
      "\n",
      "See the caveats in the documentation: https://pandas.pydata.org/pandas-docs/stable/user_guide/indexing.html#returning-a-view-versus-a-copy\n",
      "  downcast=downcast,\n",
      "/Users/chandra/miniconda3/envs/DL/lib/python3.7/site-packages/pandas/core/frame.py:3641: SettingWithCopyWarning: \n",
      "A value is trying to be set on a copy of a slice from a DataFrame.\n",
      "Try using .loc[row_indexer,col_indexer] = value instead\n",
      "\n",
      "See the caveats in the documentation: https://pandas.pydata.org/pandas-docs/stable/user_guide/indexing.html#returning-a-view-versus-a-copy\n",
      "  self[k1] = value[k2]\n"
     ]
    }
   ],
   "source": [
    "categorical = [\"PUlocationID\",\"DOlocationID\"]\n",
    "train_df = jan[categorical + [\"duration\"]]\n",
    "train_df.fillna(-1, inplace = True)\n",
    "train_df[categorical]= train_df[categorical].astype(\"str\")\n",
    "# X_train = pd.concat([pd.get_dummies(train_df['PUlocationID'], prefix='P'),  pd.get_dummies(train_df['DOlocationID'], prefix='D')],axis=1)  \n",
    "# X_train.shape\n",
    "from sklearn.feature_extraction import DictVectorizer\n",
    "from sklearn.linear_model import LinearRegression\n",
    "from sklearn.metrics import mean_squared_error\n",
    "\n",
    "dv = DictVectorizer()\n",
    "X_train = train_df.iloc[:,:2]\n",
    "y_train = train_df.iloc[:,2].values\n",
    "X_train_dict = X_train.to_dict(orient = \"records\")\n",
    "X_train = dv.fit_transform(X_train_dict)\n"
   ]
  },
  {
   "cell_type": "code",
   "execution_count": 8,
   "id": "71a5e2e4",
   "metadata": {},
   "outputs": [
    {
     "data": {
      "text/plain": [
       "10.528519107205451"
      ]
     },
     "execution_count": 8,
     "metadata": {},
     "output_type": "execute_result"
    }
   ],
   "source": [
    "y_train = train_df.iloc[:,2].values\n",
    "lr = LinearRegression()\n",
    "lr.fit(X_train,y_train)\n",
    "#mse\n",
    "y_pred = lr.predict(X_train)\n",
    "mean_squared_error(y_train,y_pred, squared = False)"
   ]
  },
  {
   "cell_type": "code",
   "execution_count": 9,
   "id": "6154388b",
   "metadata": {},
   "outputs": [
    {
     "name": "stderr",
     "output_type": "stream",
     "text": [
      "/Users/chandra/miniconda3/envs/DL/lib/python3.7/site-packages/pandas/core/frame.py:5182: SettingWithCopyWarning: \n",
      "A value is trying to be set on a copy of a slice from a DataFrame\n",
      "\n",
      "See the caveats in the documentation: https://pandas.pydata.org/pandas-docs/stable/user_guide/indexing.html#returning-a-view-versus-a-copy\n",
      "  downcast=downcast,\n",
      "/Users/chandra/miniconda3/envs/DL/lib/python3.7/site-packages/pandas/core/frame.py:3641: SettingWithCopyWarning: \n",
      "A value is trying to be set on a copy of a slice from a DataFrame.\n",
      "Try using .loc[row_indexer,col_indexer] = value instead\n",
      "\n",
      "See the caveats in the documentation: https://pandas.pydata.org/pandas-docs/stable/user_guide/indexing.html#returning-a-view-versus-a-copy\n",
      "  self[k1] = value[k2]\n"
     ]
    }
   ],
   "source": [
    "feb = pd.read_parquet('./fhv_tripdata_2021-02.parquet')\n",
    "feb.loc[:,'duration'] = feb.dropOff_datetime - feb.pickup_datetime\n",
    "feb['duration']= feb.duration.dt.total_seconds()/60\n",
    "feb = feb[(feb.duration>=1) & (feb.duration<=60) ]\n",
    "categorical = [\"PUlocationID\",\"DOlocationID\"]\n",
    "valid_df = feb[categorical + [\"duration\"]]\n",
    "valid_df.fillna(-1, inplace = True)\n",
    "valid_df[categorical]= valid_df[categorical].astype(\"str\")\n",
    "# X_valid = pd.concat([pd.get_dummies(train_df['PUlocationID'], prefix='P'),  pd.get_dummies(train_df['DOlocationID'], prefix='D')],axis=1)  \n",
    "# y_valid = train_df.iloc[:,2].values\n",
    "\n",
    "\n",
    "\n",
    "\n",
    "# dv = DictVectorizer()\n",
    "X_valid = valid_df.iloc[:,:2]\n",
    "y_valid = valid_df.iloc[:,2].values\n",
    "X_valid_dict = X_valid.to_dict(orient = \"records\")\n",
    "X_valid = dv.transform(X_valid_dict)"
   ]
  },
  {
   "cell_type": "code",
   "execution_count": 10,
   "id": "a13f5cc0",
   "metadata": {},
   "outputs": [
    {
     "data": {
      "text/plain": [
       "((1109826, 525), (990113, 525))"
      ]
     },
     "execution_count": 10,
     "metadata": {},
     "output_type": "execute_result"
    }
   ],
   "source": [
    "X_train.shape, X_valid.shape"
   ]
  },
  {
   "cell_type": "code",
   "execution_count": 11,
   "id": "81077e4b",
   "metadata": {},
   "outputs": [],
   "source": [
    "# X_valid = X_valid[X_train.columns]"
   ]
  },
  {
   "cell_type": "code",
   "execution_count": 12,
   "id": "3ec99824",
   "metadata": {},
   "outputs": [],
   "source": [
    "#mse\n",
    "valid_pred = lr.predict(X_valid)"
   ]
  },
  {
   "cell_type": "code",
   "execution_count": 13,
   "id": "6deecbbd",
   "metadata": {},
   "outputs": [
    {
     "data": {
      "text/plain": [
       "11.014283139629091"
      ]
     },
     "execution_count": 13,
     "metadata": {},
     "output_type": "execute_result"
    }
   ],
   "source": [
    "mean_squared_error(y_valid,valid_pred, squared = False)"
   ]
  },
  {
   "cell_type": "code",
   "execution_count": null,
   "id": "12d93ffc",
   "metadata": {},
   "outputs": [],
   "source": []
  }
 ],
 "metadata": {
  "kernelspec": {
   "display_name": "Python 3 (ipykernel)",
   "language": "python",
   "name": "python3"
  },
  "language_info": {
   "codemirror_mode": {
    "name": "ipython",
    "version": 3
   },
   "file_extension": ".py",
   "mimetype": "text/x-python",
   "name": "python",
   "nbconvert_exporter": "python",
   "pygments_lexer": "ipython3",
   "version": "3.7.10"
  }
 },
 "nbformat": 4,
 "nbformat_minor": 5
}
